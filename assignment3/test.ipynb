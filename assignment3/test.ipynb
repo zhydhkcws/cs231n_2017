{
 "cells": [
  {
   "cell_type": "code",
   "execution_count": 1,
   "metadata": {
    "collapsed": false
   },
   "outputs": [],
   "source": [
    "import tensorflow as tf"
   ]
  },
  {
   "cell_type": "code",
   "execution_count": 104,
   "metadata": {
    "collapsed": true
   },
   "outputs": [],
   "source": [
    "def compute():\n",
    "    a = tf.Variable(5.0,name='a')\n",
    "    print(a)"
   ]
  },
  {
   "cell_type": "code",
   "execution_count": 107,
   "metadata": {
    "collapsed": true
   },
   "outputs": [],
   "source": [
    "# same as above (no matter True or False)\n",
    "def compute():\n",
    "    with tf.variable_scope(\"t\", reuse=True) as scope:\n",
    "        a = tf.Variable(5.0,name='a')\n",
    "        print(a)"
   ]
  },
  {
   "cell_type": "code",
   "execution_count": 110,
   "metadata": {
    "collapsed": true
   },
   "outputs": [],
   "source": [
    "# get_variable is totally different\n",
    "def compute():\n",
    "    a = tf.get_variable(name='a', initializer=5.0, dtype=tf.float32)\n",
    "    print(a)"
   ]
  },
  {
   "cell_type": "code",
   "execution_count": 113,
   "metadata": {
    "collapsed": true
   },
   "outputs": [],
   "source": [
    "# same as above\n",
    "def compute():\n",
    "    with tf.variable_scope(\"t\") as scope: # reuse=False\n",
    "        a = tf.get_variable(name='a', initializer=5.0, dtype=tf.float32)\n",
    "        print(a)"
   ]
  },
  {
   "cell_type": "code",
   "execution_count": 119,
   "metadata": {
    "collapsed": false
   },
   "outputs": [
    {
     "name": "stdout",
     "output_type": "stream",
     "text": [
      "<tf.Variable 't/a:0' shape=() dtype=float32_ref>\n",
      "<tf.Variable 't/a:0' shape=() dtype=float32_ref>\n"
     ]
    }
   ],
   "source": [
    "# test simple\n",
    "tf.reset_default_graph()\n",
    "compute()\n",
    "tf.get_variable_scope().reuse_variables()  \n",
    "compute()"
   ]
  },
  {
   "cell_type": "code",
   "execution_count": 26,
   "metadata": {
    "collapsed": true
   },
   "outputs": [],
   "source": [
    "# 1. get(X) get(Y) okay, but cannot share parameters in high-level API, i.e.,\n",
    "# if you use tensorboard, you can see that they did not share kernel or bias\n",
    "# 2. get(X) reuse get(Y), not okay\n",
    "# ValueError: Variable dense_1/kernel does not exist, or was not created with tf.get_variable()\n",
    "def get(X):\n",
    "    layer = tf.layers.dense(inputs=X,units=1024)\n",
    "    print layer"
   ]
  },
  {
   "cell_type": "code",
   "execution_count": 29,
   "metadata": {
    "collapsed": true
   },
   "outputs": [],
   "source": [
    "# this is different (high-level API), see below:\n",
    "# \"ValueError: Variable discriminator/dense/kernel already exists, disallowed\"\n",
    "# 1. get(X) get(Y) not okay, since\n",
    "#    (1) if reuse = True, the first is wrong\n",
    "#    (2) if reuse = False, the second is wrong\n",
    "# 2. get(X) reuse get(X), can share the parameters in high-level API, i.e.,\n",
    "# if you use tensorboard, you can see that they share the same kernel and bias\n",
    "def get(X):\n",
    "    with tf.variable_scope(\"discriminator\"): # \"reuse = False\" is default\n",
    "        layer = tf.layers.dense(inputs=X,units=1024)\n",
    "        print layer"
   ]
  },
  {
   "cell_type": "code",
   "execution_count": 31,
   "metadata": {
    "collapsed": false
   },
   "outputs": [
    {
     "name": "stdout",
     "output_type": "stream",
     "text": [
      "Tensor(\"discriminator/dense/BiasAdd:0\", shape=(?, 1024), dtype=float32)\n",
      "Tensor(\"discriminator_1/dense/BiasAdd:0\", shape=(?, 1024), dtype=float32)\n",
      "Tensor(\"discriminator_2/dense/BiasAdd:0\", shape=(?, 1024), dtype=float32)\n"
     ]
    }
   ],
   "source": [
    "# test simple\n",
    "tf.reset_default_graph()\n",
    "X = tf.placeholder(shape=(None,1024), dtype=tf.float32)\n",
    "Y = tf.placeholder(shape=(None,1024), dtype=tf.float32)\n",
    "Z = tf.placeholder(shape=(None,1024), dtype=tf.float32)\n",
    "get(X)\n",
    "tf.get_variable_scope().reuse_variables()  \n",
    "get(Y)\n",
    "get(Z)\n",
    "# get(X)\n",
    "# get(Y)"
   ]
  },
  {
   "cell_type": "code",
   "execution_count": 32,
   "metadata": {
    "collapsed": true
   },
   "outputs": [],
   "source": [
    "with tf.Session() as sess:\n",
    "    writer = tf.summary.FileWriter(\"output/\", sess.graph)\n",
    "    "
   ]
  },
  {
   "cell_type": "code",
   "execution_count": null,
   "metadata": {
    "collapsed": true
   },
   "outputs": [],
   "source": []
  }
 ],
 "metadata": {
  "kernelspec": {
   "display_name": "Python 2",
   "language": "python",
   "name": "python2"
  },
  "language_info": {
   "codemirror_mode": {
    "name": "ipython",
    "version": 2
   },
   "file_extension": ".py",
   "mimetype": "text/x-python",
   "name": "python",
   "nbconvert_exporter": "python",
   "pygments_lexer": "ipython2",
   "version": "2.7.12"
  }
 },
 "nbformat": 4,
 "nbformat_minor": 0
}
